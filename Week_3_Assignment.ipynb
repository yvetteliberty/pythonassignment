{
  "nbformat": 4,
  "nbformat_minor": 0,
  "metadata": {
    "colab": {
      "provenance": []
    },
    "kernelspec": {
      "name": "python3",
      "display_name": "Python 3"
    },
    "language_info": {
      "name": "python"
    }
  },
  "cells": [
    {
      "cell_type": "markdown",
      "source": [
        "Create a function named calculate_discount(price, discount_percent) that calculates the final price after applying a discount. The function should take the original price (price) and the discount percentage (discount_percent) as parameters. If the discount is 20% or higher, apply the discount; otherwise, return the original price. Using the calculate_discount function, prompt the user to enter the original price of an item and the discount percentage. Print the final price after applying the discount, or if no discount was applied, print the original price."
      ],
      "metadata": {
        "id": "go_ryJZoyJfa"
      }
    },
    {
      "cell_type": "code",
      "source": [
        "def calculate_discount(price,discount_percent):\n",
        "\n",
        "    if discount_percent >=20:\n",
        "\n",
        "      return price - (price*discount_percent/100)\n",
        "\n",
        "      final_price = price- discount_percent\n",
        "\n",
        "      return final_price\n",
        "    else:\n",
        "        return price"
      ],
      "metadata": {
        "id": "XTi4ywmTyNmi"
      },
      "execution_count": 2,
      "outputs": []
    },
    {
      "cell_type": "code",
      "source": [
        "result = calculate_discount(100, 20)\n",
        "print(result)"
      ],
      "metadata": {
        "colab": {
          "base_uri": "https://localhost:8080/"
        },
        "id": "5t6MwnMUyZWL",
        "outputId": "a8bc0373-a4db-418c-f089-bc94ac8a8a60"
      },
      "execution_count": 3,
      "outputs": [
        {
          "output_type": "stream",
          "name": "stdout",
          "text": [
            "80.0\n"
          ]
        }
      ]
    }
  ]
}