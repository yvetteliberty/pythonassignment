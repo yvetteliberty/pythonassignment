{
  "nbformat": 4,
  "nbformat_minor": 0,
  "metadata": {
    "colab": {
      "provenance": []
    },
    "kernelspec": {
      "name": "python3",
      "display_name": "Python 3"
    },
    "language_info": {
      "name": "python"
    }
  },
  "cells": [
    {
      "cell_type": "code",
      "execution_count": null,
      "metadata": {
        "id": "Et5zBww-fKIJ"
      },
      "outputs": [],
      "source": [
        "#Create an empty list called my_list.\n",
        "#Append the following elements to my_list: 10, 20, 30, 40.\n",
        "#Insert the value 15 at the second position in the list.\n",
        "#Extend my_list with another list: [50, 60, 70].\n",
        "#Remove the last element from my_list.\n",
        "#Sort my_list in ascending order.\n",
        "#Find and print the index of the value 30 in my_list."
      ]
    },
    {
      "cell_type": "code",
      "source": [
        "#Create an empty list called my_list.\n",
        "my_list = []"
      ],
      "metadata": {
        "id": "625MAQ_cfkAm"
      },
      "execution_count": null,
      "outputs": []
    },
    {
      "cell_type": "code",
      "source": [
        "#Append the following elements to my_list: 10, 20, 30, 40\n",
        "\n",
        "numbers=(10,20,30)\n",
        "my_list.append(numbers)"
      ],
      "metadata": {
        "id": "UG_-05Zmf224"
      },
      "execution_count": null,
      "outputs": []
    },
    {
      "cell_type": "code",
      "source": [
        "my_list"
      ],
      "metadata": {
        "colab": {
          "base_uri": "https://localhost:8080/"
        },
        "id": "ZYgLZVEogvN-",
        "outputId": "0b85173f-4c35-44c1-a71b-2efec4e7ed24"
      },
      "execution_count": null,
      "outputs": [
        {
          "output_type": "execute_result",
          "data": {
            "text/plain": [
              "[(10, 20, 30)]"
            ]
          },
          "metadata": {},
          "execution_count": 19
        }
      ]
    },
    {
      "cell_type": "code",
      "source": [
        "#Insert the value 15 at the second position in the list.\n",
        "\n",
        "my_list.insert(1,15)"
      ],
      "metadata": {
        "id": "kwzKdZNVhIGF"
      },
      "execution_count": null,
      "outputs": []
    },
    {
      "cell_type": "code",
      "source": [
        "my_list"
      ],
      "metadata": {
        "colab": {
          "base_uri": "https://localhost:8080/"
        },
        "id": "RQaTibhWhc6T",
        "outputId": "e0bb8109-d026-4aa9-f7a0-3948dbf6bb90"
      },
      "execution_count": null,
      "outputs": [
        {
          "output_type": "execute_result",
          "data": {
            "text/plain": [
              "[(10, 20, 30), 15]"
            ]
          },
          "metadata": {},
          "execution_count": 21
        }
      ]
    },
    {
      "cell_type": "code",
      "source": [
        "#Extend my_list with another list: [50, 60, 70].\n",
        "\n",
        "list1=[50,60,70]\n",
        "\n",
        "my_list.extend(list1)\n"
      ],
      "metadata": {
        "id": "ZwsCFR9qjY6s"
      },
      "execution_count": null,
      "outputs": []
    },
    {
      "cell_type": "code",
      "source": [
        "print(my_list)"
      ],
      "metadata": {
        "colab": {
          "base_uri": "https://localhost:8080/"
        },
        "id": "1aOFNDf8jp7l",
        "outputId": "65841918-53b4-4565-fe4d-3ef4138b2f9b"
      },
      "execution_count": null,
      "outputs": [
        {
          "output_type": "stream",
          "name": "stdout",
          "text": [
            "[(10, 20, 30), 15, 50, 60, 70]\n"
          ]
        }
      ]
    },
    {
      "cell_type": "code",
      "source": [
        "#Remove the last element from my_list.\n",
        "\n",
        "del my_list[-1]"
      ],
      "metadata": {
        "id": "3i4hVU2QjxtV"
      },
      "execution_count": null,
      "outputs": []
    },
    {
      "cell_type": "code",
      "source": [
        "print(my_list)"
      ],
      "metadata": {
        "colab": {
          "base_uri": "https://localhost:8080/"
        },
        "id": "yAPaUaP0kkWN",
        "outputId": "4849dae9-bc9a-42ee-9198-eea7ac28af7d"
      },
      "execution_count": null,
      "outputs": [
        {
          "output_type": "stream",
          "name": "stdout",
          "text": [
            "[(10, 20, 30), 15, 50, 60]\n"
          ]
        }
      ]
    },
    {
      "cell_type": "code",
      "source": [
        "#Find and print the index of the value 30 in my_list\n",
        "\n",
        "print(my_list[2])"
      ],
      "metadata": {
        "colab": {
          "base_uri": "https://localhost:8080/"
        },
        "id": "jS89KJkTloX6",
        "outputId": "3e827c6d-67fc-4510-aae2-6d839a06fa98"
      },
      "execution_count": null,
      "outputs": [
        {
          "output_type": "stream",
          "name": "stdout",
          "text": [
            "50\n"
          ]
        }
      ]
    }
  ]
}